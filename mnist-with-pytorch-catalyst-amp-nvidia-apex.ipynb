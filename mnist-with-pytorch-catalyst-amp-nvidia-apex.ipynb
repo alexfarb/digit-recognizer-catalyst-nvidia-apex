{
 "cells": [
  {
   "cell_type": "markdown",
   "metadata": {
    "colab": {
     "base_uri": "https://localhost:8080/",
     "height": 34
    },
    "colab_type": "code",
    "id": "Jme-NJAJYvnW",
    "outputId": "1ed720e9-d7cd-4a68-a5c7-9f52281e6442"
   },
   "source": [
    "![](https://raw.githubusercontent.com/catalyst-team/catalyst-pics/master/pics/catalyst_logo.png)"
   ]
  },
  {
   "cell_type": "markdown",
   "metadata": {},
   "source": [
    "# 1. Introduction\n",
    "\n",
    "In this Kernel I will develop my take on the classic competition of Digit Recognizer using the nice Python module called [Catalyst](https://github.com/catalyst-team/catalyst). It's good because you can write modular and reproducible code to future experiments.<br>\n",
    "Let's start installing catalyst module.\n"
   ]
  },
  {
   "cell_type": "code",
   "execution_count": 1,
   "metadata": {
    "_kg_hide-output": true,
    "colab": {
     "base_uri": "https://localhost:8080/",
     "height": 1000
    },
    "colab_type": "code",
    "id": "JwzSjA5Ivnkh",
    "outputId": "f0f6a07d-47fc-42c4-a5ad-3273d24a3d25"
   },
   "outputs": [
    {
     "name": "stdout",
     "output_type": "stream",
     "text": [
      "Requirement already satisfied: catalyst in /opt/conda/lib/python3.6/site-packages (19.10.2)\r\n",
      "Requirement already satisfied: opencv-python in /opt/conda/lib/python3.6/site-packages (from catalyst) (4.1.1.26)\r\n",
      "Requirement already satisfied: scikit-learn>=0.20 in /opt/conda/lib/python3.6/site-packages (from catalyst) (0.21.3)\r\n",
      "Requirement already satisfied: torch>=0.4.1 in /opt/conda/lib/python3.6/site-packages (from catalyst) (1.3.0)\r\n",
      "Requirement already satisfied: matplotlib in /opt/conda/lib/python3.6/site-packages (from catalyst) (3.0.3)\r\n",
      "Requirement already satisfied: numpy>=1.16.4 in /opt/conda/lib/python3.6/site-packages (from catalyst) (1.16.4)\r\n",
      "Requirement already satisfied: torchvision>=0.2.1 in /opt/conda/lib/python3.6/site-packages (from catalyst) (0.4.1a0+d94043a)\r\n",
      "Requirement already satisfied: tqdm>=4.29.1 in /opt/conda/lib/python3.6/site-packages (from catalyst) (4.36.1)\r\n",
      "Requirement already satisfied: safitty>=1.2.3 in /opt/conda/lib/python3.6/site-packages (from catalyst) (1.3)\r\n",
      "Requirement already satisfied: crc32c>=1.7 in /opt/conda/lib/python3.6/site-packages (from catalyst) (1.7)\r\n",
      "Requirement already satisfied: ipython in /opt/conda/lib/python3.6/site-packages (from catalyst) (7.8.0)\r\n",
      "Requirement already satisfied: imageio in /opt/conda/lib/python3.6/site-packages (from catalyst) (2.6.1)\r\n",
      "Requirement already satisfied: seaborn in /opt/conda/lib/python3.6/site-packages (from catalyst) (0.9.0)\r\n",
      "Requirement already satisfied: pandas>=0.22 in /opt/conda/lib/python3.6/site-packages (from catalyst) (0.25.2)\r\n",
      "Requirement already satisfied: plotly>=4.1.0 in /opt/conda/lib/python3.6/site-packages (from catalyst) (4.2.1)\r\n",
      "Requirement already satisfied: scikit-image>=0.14.2 in /opt/conda/lib/python3.6/site-packages (from catalyst) (0.16.2)\r\n",
      "Requirement already satisfied: GitPython>=2.1.11 in /opt/conda/lib/python3.6/site-packages (from catalyst) (3.0.4)\r\n",
      "Requirement already satisfied: PyYAML in /opt/conda/lib/python3.6/site-packages (from catalyst) (5.1.2)\r\n",
      "Requirement already satisfied: tensorboardX>=1.8 in /opt/conda/lib/python3.6/site-packages (from catalyst) (1.9)\r\n",
      "Requirement already satisfied: joblib>=0.11 in /opt/conda/lib/python3.6/site-packages (from scikit-learn>=0.20->catalyst) (0.13.2)\r\n",
      "Requirement already satisfied: scipy>=0.17.0 in /opt/conda/lib/python3.6/site-packages (from scikit-learn>=0.20->catalyst) (1.2.1)\r\n",
      "Requirement already satisfied: cycler>=0.10 in /opt/conda/lib/python3.6/site-packages (from matplotlib->catalyst) (0.10.0)\r\n",
      "Requirement already satisfied: kiwisolver>=1.0.1 in /opt/conda/lib/python3.6/site-packages (from matplotlib->catalyst) (1.1.0)\r\n",
      "Requirement already satisfied: pyparsing!=2.0.4,!=2.1.2,!=2.1.6,>=2.0.1 in /opt/conda/lib/python3.6/site-packages (from matplotlib->catalyst) (2.4.2)\r\n",
      "Requirement already satisfied: python-dateutil>=2.1 in /opt/conda/lib/python3.6/site-packages (from matplotlib->catalyst) (2.8.0)\r\n",
      "Requirement already satisfied: six in /opt/conda/lib/python3.6/site-packages (from torchvision>=0.2.1->catalyst) (1.12.0)\r\n",
      "Requirement already satisfied: pillow>=4.1.1 in /opt/conda/lib/python3.6/site-packages (from torchvision>=0.2.1->catalyst) (5.4.1)\r\n",
      "Requirement already satisfied: decorator in /opt/conda/lib/python3.6/site-packages (from ipython->catalyst) (4.4.0)\r\n",
      "Requirement already satisfied: pexpect; sys_platform != \"win32\" in /opt/conda/lib/python3.6/site-packages (from ipython->catalyst) (4.7.0)\r\n",
      "Requirement already satisfied: pygments in /opt/conda/lib/python3.6/site-packages (from ipython->catalyst) (2.4.2)\r\n",
      "Requirement already satisfied: setuptools>=18.5 in /opt/conda/lib/python3.6/site-packages (from ipython->catalyst) (41.4.0)\r\n",
      "Requirement already satisfied: jedi>=0.10 in /opt/conda/lib/python3.6/site-packages (from ipython->catalyst) (0.15.1)\r\n",
      "Requirement already satisfied: prompt-toolkit<2.1.0,>=2.0.0 in /opt/conda/lib/python3.6/site-packages (from ipython->catalyst) (2.0.10)\r\n",
      "Requirement already satisfied: backcall in /opt/conda/lib/python3.6/site-packages (from ipython->catalyst) (0.1.0)\r\n",
      "Requirement already satisfied: pickleshare in /opt/conda/lib/python3.6/site-packages (from ipython->catalyst) (0.7.5)\r\n",
      "Requirement already satisfied: traitlets>=4.2 in /opt/conda/lib/python3.6/site-packages (from ipython->catalyst) (4.3.3)\r\n",
      "Requirement already satisfied: pytz>=2017.2 in /opt/conda/lib/python3.6/site-packages (from pandas>=0.22->catalyst) (2019.3)\r\n",
      "Requirement already satisfied: retrying>=1.3.3 in /opt/conda/lib/python3.6/site-packages (from plotly>=4.1.0->catalyst) (1.3.3)\r\n",
      "Requirement already satisfied: networkx>=2.0 in /opt/conda/lib/python3.6/site-packages (from scikit-image>=0.14.2->catalyst) (2.4)\r\n",
      "Requirement already satisfied: PyWavelets>=0.4.0 in /opt/conda/lib/python3.6/site-packages (from scikit-image>=0.14.2->catalyst) (1.1.1)\r\n",
      "Requirement already satisfied: gitdb2>=2.0.0 in /opt/conda/lib/python3.6/site-packages (from GitPython>=2.1.11->catalyst) (2.0.6)\r\n",
      "Requirement already satisfied: protobuf>=3.8.0 in /opt/conda/lib/python3.6/site-packages (from tensorboardX>=1.8->catalyst) (3.10.0)\r\n",
      "Requirement already satisfied: ptyprocess>=0.5 in /opt/conda/lib/python3.6/site-packages (from pexpect; sys_platform != \"win32\"->ipython->catalyst) (0.6.0)\r\n",
      "Requirement already satisfied: parso>=0.5.0 in /opt/conda/lib/python3.6/site-packages (from jedi>=0.10->ipython->catalyst) (0.5.1)\r\n",
      "Requirement already satisfied: wcwidth in /opt/conda/lib/python3.6/site-packages (from prompt-toolkit<2.1.0,>=2.0.0->ipython->catalyst) (0.1.7)\r\n",
      "Requirement already satisfied: ipython-genutils in /opt/conda/lib/python3.6/site-packages (from traitlets>=4.2->ipython->catalyst) (0.2.0)\r\n",
      "Requirement already satisfied: smmap2>=2.0.0 in /opt/conda/lib/python3.6/site-packages (from gitdb2>=2.0.0->GitPython>=2.1.11->catalyst) (2.0.5)\r\n",
      "Requirement already satisfied: torchvision in /opt/conda/lib/python3.6/site-packages (0.4.1a0+d94043a)\r\n",
      "Requirement already satisfied: numpy in /opt/conda/lib/python3.6/site-packages (from torchvision) (1.16.4)\r\n",
      "Requirement already satisfied: six in /opt/conda/lib/python3.6/site-packages (from torchvision) (1.12.0)\r\n",
      "Requirement already satisfied: torch in /opt/conda/lib/python3.6/site-packages (from torchvision) (1.3.0)\r\n",
      "Requirement already satisfied: pillow>=4.1.1 in /opt/conda/lib/python3.6/site-packages (from torchvision) (5.4.1)\r\n"
     ]
    }
   ],
   "source": [
    "!pip install catalyst\n",
    "!pip install torchvision"
   ]
  },
  {
   "cell_type": "markdown",
   "metadata": {},
   "source": [
    "And now import all required modules."
   ]
  },
  {
   "cell_type": "code",
   "execution_count": 2,
   "metadata": {
    "_kg_hide-input": true,
    "colab": {
     "base_uri": "https://localhost:8080/",
     "height": 34
    },
    "colab_type": "code",
    "id": "FYQC9cqwY9Xy",
    "outputId": "7809cf7f-9fcf-465c-8b90-e4836faa629e"
   },
   "outputs": [
    {
     "name": "stdout",
     "output_type": "stream",
     "text": [
      "['train.csv', 'sample_submission.csv', 'test.csv']\n"
     ]
    }
   ],
   "source": [
    "# Standard Modules\n",
    "import numpy as np\n",
    "import pandas as pd\n",
    "# Graphic Plots\n",
    "import matplotlib.pyplot as plt\n",
    "%matplotlib inline\n",
    "plt.style.use('ggplot')\n",
    "import seaborn as sns\n",
    "sns.set_style('darkgrid')\n",
    "# Extra Tools\n",
    "import os\n",
    "import warnings\n",
    "import math\n",
    "import random\n",
    "from sklearn.model_selection import train_test_split\n",
    "warnings.filterwarnings('ignore')\n",
    "# PyTorch and Catalyst\n",
    "import collections\n",
    "import torch\n",
    "import torchvision\n",
    "import torchvision.transforms as transforms\n",
    "from torch.utils.data import DataLoader, Dataset, TensorDataset\n",
    "import torch.nn as nn\n",
    "import torch.nn.functional as F\n",
    "from catalyst.dl import utils\n",
    "from catalyst.dl.runner import SupervisedRunner\n",
    "from catalyst.dl.callbacks import AccuracyCallback\n",
    "from catalyst.utils import set_global_seed, prepare_cudnn\n",
    "#from catalyst.contrib.schedulers import OneCycleLR\n",
    "# For better plot visualization\n",
    "%config InlineBackend.figure_format = 'retina'\n",
    "# Enviroment PATH\n",
    "PATH = '../input/digit-recognizer/'\n",
    "print(os.listdir(PATH))"
   ]
  },
  {
   "cell_type": "markdown",
   "metadata": {},
   "source": [
    "And set the enviroment settings for reprodutibility."
   ]
  },
  {
   "cell_type": "code",
   "execution_count": 3,
   "metadata": {},
   "outputs": [],
   "source": [
    "SEED = 42\n",
    "os.environ['CUDA_VISIBLE_DEVICES'] = \"0\"\n",
    "set_global_seed(SEED)                       \n",
    "prepare_cudnn(deterministic=True)           "
   ]
  },
  {
   "cell_type": "markdown",
   "metadata": {},
   "source": [
    "Let's use [NVIDIA Apex](https://github.com/NVIDIA/apex) to use [Mixed Precision Training](https://docs.nvidia.com/deeplearning/sdk/mixed-precision-training/index.html), also called Automatic Mixed Precision (AMP)."
   ]
  },
  {
   "cell_type": "code",
   "execution_count": 4,
   "metadata": {
    "_kg_hide-input": true
   },
   "outputs": [],
   "source": [
    "FP16_PARAMS = None"
   ]
  },
  {
   "cell_type": "code",
   "execution_count": 5,
   "metadata": {
    "_kg_hide-output": true
   },
   "outputs": [],
   "source": [
    "%%capture\n",
    "# If Your machine doesn't support FP16, comment this 3 lines below\n",
    "!git clone https://github.com/NVIDIA/apex \n",
    "!pip install -v --no-cache-dir --global-option=\"--cpp_ext\" --global-option=\"--cuda_ext\" ./apex \n",
    "!rm -rf ./apex\n",
    "FP16_PARAMS = dict(opt_level=\"O1\") "
   ]
  },
  {
   "cell_type": "markdown",
   "metadata": {},
   "source": [
    "# 2. Load Datasets and Explore the Images\n",
    "\n",
    "Load the datasets in Pandas Dataframes and take a look on the Train Set to see the data format."
   ]
  },
  {
   "cell_type": "code",
   "execution_count": 6,
   "metadata": {
    "_kg_hide-input": true,
    "colab": {},
    "colab_type": "code",
    "id": "QBegVYWtwTRn"
   },
   "outputs": [
    {
     "data": {
      "text/html": [
       "<div>\n",
       "<style scoped>\n",
       "    .dataframe tbody tr th:only-of-type {\n",
       "        vertical-align: middle;\n",
       "    }\n",
       "\n",
       "    .dataframe tbody tr th {\n",
       "        vertical-align: top;\n",
       "    }\n",
       "\n",
       "    .dataframe thead th {\n",
       "        text-align: right;\n",
       "    }\n",
       "</style>\n",
       "<table border=\"1\" class=\"dataframe\">\n",
       "  <thead>\n",
       "    <tr style=\"text-align: right;\">\n",
       "      <th></th>\n",
       "      <th>label</th>\n",
       "      <th>pixel0</th>\n",
       "      <th>pixel1</th>\n",
       "      <th>pixel2</th>\n",
       "      <th>pixel3</th>\n",
       "      <th>pixel4</th>\n",
       "      <th>pixel5</th>\n",
       "      <th>pixel6</th>\n",
       "      <th>pixel7</th>\n",
       "      <th>pixel8</th>\n",
       "      <th>...</th>\n",
       "      <th>pixel774</th>\n",
       "      <th>pixel775</th>\n",
       "      <th>pixel776</th>\n",
       "      <th>pixel777</th>\n",
       "      <th>pixel778</th>\n",
       "      <th>pixel779</th>\n",
       "      <th>pixel780</th>\n",
       "      <th>pixel781</th>\n",
       "      <th>pixel782</th>\n",
       "      <th>pixel783</th>\n",
       "    </tr>\n",
       "  </thead>\n",
       "  <tbody>\n",
       "    <tr>\n",
       "      <th>0</th>\n",
       "      <td>1</td>\n",
       "      <td>0</td>\n",
       "      <td>0</td>\n",
       "      <td>0</td>\n",
       "      <td>0</td>\n",
       "      <td>0</td>\n",
       "      <td>0</td>\n",
       "      <td>0</td>\n",
       "      <td>0</td>\n",
       "      <td>0</td>\n",
       "      <td>...</td>\n",
       "      <td>0</td>\n",
       "      <td>0</td>\n",
       "      <td>0</td>\n",
       "      <td>0</td>\n",
       "      <td>0</td>\n",
       "      <td>0</td>\n",
       "      <td>0</td>\n",
       "      <td>0</td>\n",
       "      <td>0</td>\n",
       "      <td>0</td>\n",
       "    </tr>\n",
       "    <tr>\n",
       "      <th>1</th>\n",
       "      <td>0</td>\n",
       "      <td>0</td>\n",
       "      <td>0</td>\n",
       "      <td>0</td>\n",
       "      <td>0</td>\n",
       "      <td>0</td>\n",
       "      <td>0</td>\n",
       "      <td>0</td>\n",
       "      <td>0</td>\n",
       "      <td>0</td>\n",
       "      <td>...</td>\n",
       "      <td>0</td>\n",
       "      <td>0</td>\n",
       "      <td>0</td>\n",
       "      <td>0</td>\n",
       "      <td>0</td>\n",
       "      <td>0</td>\n",
       "      <td>0</td>\n",
       "      <td>0</td>\n",
       "      <td>0</td>\n",
       "      <td>0</td>\n",
       "    </tr>\n",
       "    <tr>\n",
       "      <th>2</th>\n",
       "      <td>1</td>\n",
       "      <td>0</td>\n",
       "      <td>0</td>\n",
       "      <td>0</td>\n",
       "      <td>0</td>\n",
       "      <td>0</td>\n",
       "      <td>0</td>\n",
       "      <td>0</td>\n",
       "      <td>0</td>\n",
       "      <td>0</td>\n",
       "      <td>...</td>\n",
       "      <td>0</td>\n",
       "      <td>0</td>\n",
       "      <td>0</td>\n",
       "      <td>0</td>\n",
       "      <td>0</td>\n",
       "      <td>0</td>\n",
       "      <td>0</td>\n",
       "      <td>0</td>\n",
       "      <td>0</td>\n",
       "      <td>0</td>\n",
       "    </tr>\n",
       "    <tr>\n",
       "      <th>3</th>\n",
       "      <td>4</td>\n",
       "      <td>0</td>\n",
       "      <td>0</td>\n",
       "      <td>0</td>\n",
       "      <td>0</td>\n",
       "      <td>0</td>\n",
       "      <td>0</td>\n",
       "      <td>0</td>\n",
       "      <td>0</td>\n",
       "      <td>0</td>\n",
       "      <td>...</td>\n",
       "      <td>0</td>\n",
       "      <td>0</td>\n",
       "      <td>0</td>\n",
       "      <td>0</td>\n",
       "      <td>0</td>\n",
       "      <td>0</td>\n",
       "      <td>0</td>\n",
       "      <td>0</td>\n",
       "      <td>0</td>\n",
       "      <td>0</td>\n",
       "    </tr>\n",
       "    <tr>\n",
       "      <th>4</th>\n",
       "      <td>0</td>\n",
       "      <td>0</td>\n",
       "      <td>0</td>\n",
       "      <td>0</td>\n",
       "      <td>0</td>\n",
       "      <td>0</td>\n",
       "      <td>0</td>\n",
       "      <td>0</td>\n",
       "      <td>0</td>\n",
       "      <td>0</td>\n",
       "      <td>...</td>\n",
       "      <td>0</td>\n",
       "      <td>0</td>\n",
       "      <td>0</td>\n",
       "      <td>0</td>\n",
       "      <td>0</td>\n",
       "      <td>0</td>\n",
       "      <td>0</td>\n",
       "      <td>0</td>\n",
       "      <td>0</td>\n",
       "      <td>0</td>\n",
       "    </tr>\n",
       "  </tbody>\n",
       "</table>\n",
       "<p>5 rows × 785 columns</p>\n",
       "</div>"
      ],
      "text/plain": [
       "   label  pixel0  pixel1  pixel2  pixel3  pixel4  pixel5  pixel6  pixel7  \\\n",
       "0      1       0       0       0       0       0       0       0       0   \n",
       "1      0       0       0       0       0       0       0       0       0   \n",
       "2      1       0       0       0       0       0       0       0       0   \n",
       "3      4       0       0       0       0       0       0       0       0   \n",
       "4      0       0       0       0       0       0       0       0       0   \n",
       "\n",
       "   pixel8  ...  pixel774  pixel775  pixel776  pixel777  pixel778  pixel779  \\\n",
       "0       0  ...         0         0         0         0         0         0   \n",
       "1       0  ...         0         0         0         0         0         0   \n",
       "2       0  ...         0         0         0         0         0         0   \n",
       "3       0  ...         0         0         0         0         0         0   \n",
       "4       0  ...         0         0         0         0         0         0   \n",
       "\n",
       "   pixel780  pixel781  pixel782  pixel783  \n",
       "0         0         0         0         0  \n",
       "1         0         0         0         0  \n",
       "2         0         0         0         0  \n",
       "3         0         0         0         0  \n",
       "4         0         0         0         0  \n",
       "\n",
       "[5 rows x 785 columns]"
      ]
     },
     "execution_count": 6,
     "metadata": {},
     "output_type": "execute_result"
    }
   ],
   "source": [
    "train_raw = pd.read_csv(PATH+'train.csv')\n",
    "test_raw = pd.read_csv(PATH+'test.csv')\n",
    "submission = pd.read_csv(PATH+'sample_submission.csv')\n",
    "train_raw.head()"
   ]
  },
  {
   "cell_type": "markdown",
   "metadata": {},
   "source": [
    "Although this is an image competition, is provided tabular data, where each feature column represents a image pixel. <br>\n",
    "Let's see how many samples (images) it have."
   ]
  },
  {
   "cell_type": "code",
   "execution_count": 7,
   "metadata": {
    "_kg_hide-input": true,
    "colab": {
     "base_uri": "https://localhost:8080/",
     "height": 52
    },
    "colab_type": "code",
    "id": "iRtK3DzM2eBz",
    "outputId": "caed51e5-676c-4143-d4a1-67990bb3017f"
   },
   "outputs": [
    {
     "name": "stdout",
     "output_type": "stream",
     "text": [
      "Train Samples: 42000\n",
      "Test Samples: 28000\n"
     ]
    }
   ],
   "source": [
    "print(f'Train Samples: {train_raw.shape[0]}')\n",
    "print(f'Test Samples: {test_raw.shape[0]}')"
   ]
  },
  {
   "cell_type": "markdown",
   "metadata": {},
   "source": [
    "And check the label distribution for any disbalance."
   ]
  },
  {
   "cell_type": "code",
   "execution_count": 8,
   "metadata": {
    "_kg_hide-input": true,
    "colab": {
     "base_uri": "https://localhost:8080/",
     "height": 407
    },
    "colab_type": "code",
    "id": "FlN2yv66273H",
    "outputId": "758822f1-3325-4dce-af3e-0e23b6ff2d39"
   },
   "outputs": [
    {
     "data": {
      "image/png": "[encoded data removed]",
      "text/plain": [
       "<Figure size 720x432 with 1 Axes>"
      ]
     },
     "metadata": {
      "image/png": {
       "height": 390,
       "width": 622
      }
     },
     "output_type": "display_data"
    }
   ],
   "source": [
    "plt.figure(figsize=(10,6))\n",
    "sns.countplot(x='label', data=train_raw)\n",
    "plt.title('Digit Label Distribution');"
   ]
  },
  {
   "cell_type": "markdown",
   "metadata": {},
   "source": [
    "Time to see how the samples look like images. For this, they will reshaped for images with 28x28 pixels, because the product of this results in 784, the number of columns in the dataset (except label column). "
   ]
  },
  {
   "cell_type": "code",
   "execution_count": 9,
   "metadata": {
    "_kg_hide-input": true,
    "colab": {
     "base_uri": "https://localhost:8080/",
     "height": 374
    },
    "colab_type": "code",
    "id": "r3FT-bHc1GWB",
    "outputId": "1cd9b37f-8e82-4c45-daad-15c643125f70"
   },
   "outputs": [
    {
     "data": {
      "image/png": "[encoded data removed]",
      "text/plain": [
       "<Figure size 720x432 with 10 Axes>"
      ]
     },
     "metadata": {
      "image/png": {
       "height": 374,
       "width": 592
      }
     },
     "output_type": "display_data"
    }
   ],
   "source": [
    "label_index = []\n",
    "for i in range(10):\n",
    "  label_index.append(train_raw.index[train_raw['label'] == i][0])\n",
    "\n",
    "fig = plt.figure(figsize=(10,6))\n",
    "\n",
    "idx = 1\n",
    "\n",
    "for i in label_index:\n",
    "  plt.subplot(2, 5, idx)\n",
    "  plt.imshow(train_raw.iloc[i,1:].values.reshape(28, 28))\n",
    "  plt.axis('off')\n",
    "  plt.suptitle('MNIST Digits')\n",
    "  plt.title(str(train_raw['label'].loc[i]))\n",
    "  idx = idx+1\n",
    "\n",
    "plt.show()"
   ]
  },
  {
   "cell_type": "markdown",
   "metadata": {},
   "source": [
    "# 3. Data Preparation for Catalyst\n",
    "\n",
    "We start splitting the train set in train and validations sets."
   ]
  },
  {
   "cell_type": "code",
   "execution_count": 10,
   "metadata": {
    "_kg_hide-input": true,
    "colab": {},
    "colab_type": "code",
    "id": "zToQ4BwoyEMX"
   },
   "outputs": [],
   "source": [
    "x_train, x_val, y_train, y_val = train_test_split(train_raw.iloc[:, 1:], \n",
    "                                                  train_raw['label'], \n",
    "                                                  test_size=0.3, \n",
    "                                                  random_state=42)\n",
    "\n",
    "x_train.reset_index(drop=True, inplace=True)\n",
    "y_train.reset_index(drop=True, inplace=True)\n",
    "x_val.reset_index(drop=True, inplace=True)\n",
    "y_val.reset_index(drop=True, inplace=True)"
   ]
  },
  {
   "cell_type": "markdown",
   "metadata": {},
   "source": [
    "As we have a Pandas Dataframe with pixel values, it's needed to transform for tensors, they will feed the Network. <br>\n",
    "The pixels are normalized with the transform.\n",
    "Let's just write how the transform will work."
   ]
  },
  {
   "cell_type": "code",
   "execution_count": 11,
   "metadata": {
    "_kg_hide-input": true,
    "colab": {},
    "colab_type": "code",
    "id": "N8szhSG8K876"
   },
   "outputs": [],
   "source": [
    "data_transform = transforms.Compose([transforms.ToTensor(),transforms.Normalize((0.5,), (0.5,))])"
   ]
  },
  {
   "cell_type": "markdown",
   "metadata": {},
   "source": [
    "For the Catalyst, we have to write a class called dataset to prepare the data for the network. <br>\n",
    "On the Dataset class is defined the input, label and any process, like tranformations, in the data."
   ]
  },
  {
   "cell_type": "code",
   "execution_count": 12,
   "metadata": {
    "_kg_hide-input": true,
    "colab": {},
    "colab_type": "code",
    "id": "Vr1Yz5XAC132"
   },
   "outputs": [],
   "source": [
    "class MnistDataset(Dataset):\n",
    "# Get input, labels and transforms\n",
    "  def __init__(self, images, labels=None, transform=None):\n",
    "    self.x = images\n",
    "    self.y = labels\n",
    "    self.transform = transform\n",
    "# Get data length\n",
    "  def __len__(self):\n",
    "    return len(self.x)\n",
    "# Get data index\n",
    "  def __getitem__(self, i):\n",
    "    data = np.array(self.x.iloc[i, :], dtype='uint8').reshape([28, 28, 1])\n",
    "\n",
    "    if self.transform is not None:\n",
    "      data = self.transform(data)\n",
    "    if self.y is not None:\n",
    "      target = self.y.iloc[i]\n",
    "      return data, target\n",
    "    else:\n",
    "      return data"
   ]
  },
  {
   "cell_type": "markdown",
   "metadata": {},
   "source": [
    "Here, we define the parameters of the experiment, like Batch Size, Iterations, etc."
   ]
  },
  {
   "cell_type": "code",
   "execution_count": 13,
   "metadata": {
    "colab": {},
    "colab_type": "code",
    "id": "yRi8KADSnXjN"
   },
   "outputs": [],
   "source": [
    "num_class = 10\n",
    "batch_size = 32\n",
    "num_workers = 4\n",
    "n_iters = 10000\n",
    "n_epochs = int(n_iters/(len(x_train)/batch_size))"
   ]
  },
  {
   "cell_type": "markdown",
   "metadata": {},
   "source": [
    "It's a personal choice, I create fake labels for the test set for avoid any error on Catalyst."
   ]
  },
  {
   "cell_type": "code",
   "execution_count": 14,
   "metadata": {
    "_kg_hide-input": true,
    "colab": {},
    "colab_type": "code",
    "id": "75Hbwo-eVTC5"
   },
   "outputs": [],
   "source": [
    "fake_labels = np.zeros(test_raw.shape[0])\n",
    "fake_labels = pd.Series(fake_labels)\n",
    "fake_labels = fake_labels.astype(int)"
   ]
  },
  {
   "cell_type": "markdown",
   "metadata": {},
   "source": [
    "Time to convert the data on Catalyst Dataset."
   ]
  },
  {
   "cell_type": "code",
   "execution_count": 15,
   "metadata": {
    "_kg_hide-input": true,
    "colab": {},
    "colab_type": "code",
    "id": "YHOkWYXNMEn4"
   },
   "outputs": [],
   "source": [
    "train = MnistDataset(x_train, y_train, transform=data_transform)\n",
    "val = MnistDataset(x_val, y_val, transform=data_transform)\n",
    "test = MnistDataset(test_raw, fake_labels, transform=data_transform)"
   ]
  },
  {
   "cell_type": "markdown",
   "metadata": {},
   "source": [
    "And get these datasets and put they on Loaders, <br>\n",
    "Loaders in Catalyst provide parameters like batch size together the data."
   ]
  },
  {
   "cell_type": "code",
   "execution_count": 16,
   "metadata": {
    "_kg_hide-input": true,
    "colab": {},
    "colab_type": "code",
    "id": "qERBENjSy_aO"
   },
   "outputs": [],
   "source": [
    "train_loader = DataLoader(train, batch_size=batch_size, shuffle=False, num_workers=num_workers)\n",
    "val_loader = DataLoader(val, batch_size=batch_size, shuffle=False, num_workers=num_workers)\n",
    "test_loader = DataLoader(test, batch_size=batch_size, shuffle=False, num_workers=num_workers)"
   ]
  },
  {
   "cell_type": "markdown",
   "metadata": {},
   "source": [
    "Put the train and validation loaders in dictionares to feed the network."
   ]
  },
  {
   "cell_type": "code",
   "execution_count": 17,
   "metadata": {
    "_kg_hide-input": true,
    "colab": {},
    "colab_type": "code",
    "id": "MBCs3SqJNVwe"
   },
   "outputs": [],
   "source": [
    "loaders = collections.OrderedDict()\n",
    "loaders[\"train\"] = train_loader\n",
    "loaders[\"valid\"] = val_loader"
   ]
  },
  {
   "cell_type": "markdown",
   "metadata": {},
   "source": [
    "We have the advantage of use GPU, let's check for any available and save it for use on Catalyst."
   ]
  },
  {
   "cell_type": "code",
   "execution_count": 18,
   "metadata": {
    "_kg_hide-input": true,
    "colab": {
     "base_uri": "https://localhost:8080/",
     "height": 34
    },
    "colab_type": "code",
    "id": "SAlSzLgI8CR2",
    "outputId": "04b70d0b-e60a-4f82-b80e-2f3665a1c507"
   },
   "outputs": [
    {
     "name": "stdout",
     "output_type": "stream",
     "text": [
      "cuda\n"
     ]
    }
   ],
   "source": [
    "device = torch.device('cuda' if torch.cuda.is_available() else 'cpu')\n",
    "print(device)"
   ]
  },
  {
   "cell_type": "markdown",
   "metadata": {},
   "source": [
    "# 4. Model\n",
    "\n",
    "Time to build the model! This is a nice part on Catalyst, it's modular, is easy to change any part like the network. <br>\n",
    "If you see on this competition, you will find a lot of interesting model networks, I think that the model that is provided [here](https://www.kaggle.com/juiyangchang/cnn-with-pytorch-0-995-accuracy) is good."
   ]
  },
  {
   "cell_type": "code",
   "execution_count": 19,
   "metadata": {
    "colab": {},
    "colab_type": "code",
    "id": "JE3YsTaV9htk"
   },
   "outputs": [],
   "source": [
    "class Net(nn.Module):    \n",
    "    def __init__(self):\n",
    "        super(Net, self).__init__()\n",
    "          \n",
    "        self.features = nn.Sequential(\n",
    "            nn.Conv2d(1, 32, kernel_size=3, stride=1, padding=1),\n",
    "            nn.BatchNorm2d(32),\n",
    "            nn.ReLU(inplace=True),\n",
    "            nn.Conv2d(32, 32, kernel_size=3, stride=1, padding=1),\n",
    "            nn.BatchNorm2d(32),\n",
    "            nn.ReLU(inplace=True),\n",
    "            nn.MaxPool2d(kernel_size=2, stride=2),\n",
    "            nn.Conv2d(32, 64, kernel_size=3, padding=1),\n",
    "            nn.BatchNorm2d(64),\n",
    "            nn.ReLU(inplace=True),\n",
    "            nn.Conv2d(64, 64, kernel_size=3, padding=1),\n",
    "            nn.BatchNorm2d(64),\n",
    "            nn.ReLU(inplace=True),\n",
    "            nn.MaxPool2d(kernel_size=2, stride=2)\n",
    "        )\n",
    "          \n",
    "        self.classifier = nn.Sequential(\n",
    "            nn.Dropout(p = 0.5),\n",
    "            nn.Linear(64 * 7 * 7, 512),\n",
    "            nn.BatchNorm1d(512),\n",
    "            nn.ReLU(inplace=True),\n",
    "            nn.Dropout(p = 0.5),\n",
    "            nn.Linear(512, 512),\n",
    "            nn.BatchNorm1d(512),\n",
    "            nn.ReLU(inplace=True),\n",
    "            nn.Dropout(p = 0.5),\n",
    "            nn.Linear(512, 10),\n",
    "        )\n",
    "          \n",
    "        for m in self.features.children():\n",
    "            if isinstance(m, nn.Conv2d):\n",
    "                n = m.kernel_size[0] * m.kernel_size[1] * m.out_channels\n",
    "                m.weight.data.normal_(0, math.sqrt(2. / n))\n",
    "            elif isinstance(m, nn.BatchNorm2d):\n",
    "                m.weight.data.fill_(1)\n",
    "                m.bias.data.zero_()\n",
    "        \n",
    "        for m in self.classifier.children():\n",
    "            if isinstance(m, nn.Linear):\n",
    "                nn.init.xavier_uniform(m.weight)\n",
    "            elif isinstance(m, nn.BatchNorm1d):\n",
    "                m.weight.data.fill_(1)\n",
    "                m.bias.data.zero_()\n",
    "                \n",
    "\n",
    "    def forward(self, x):\n",
    "        x = self.features(x)\n",
    "        x = x.view(x.size(0), -1)\n",
    "        x = self.classifier(x)\n",
    "        \n",
    "        return x    "
   ]
  },
  {
   "cell_type": "markdown",
   "metadata": {},
   "source": [
    "Now, we assemble each component created before and run the expirement on Catalyst. <br>\n",
    "Let's start training our network."
   ]
  },
  {
   "cell_type": "code",
   "execution_count": 20,
   "metadata": {
    "_kg_hide-input": true,
    "colab": {
     "base_uri": "https://localhost:8080/",
     "height": 1000
    },
    "colab_type": "code",
    "id": "ANJTmLtc_Yvg",
    "outputId": "9d67fe03-37be-4d1c-d2b5-148a5b6bcb43"
   },
   "outputs": [
    {
     "data": {
      "application/javascript": [
       "IPython.notebook.save_checkpoint();"
      ],
      "text/plain": [
       "<IPython.core.display.Javascript object>"
      ]
     },
     "metadata": {},
     "output_type": "display_data"
    },
    {
     "name": "stdout",
     "output_type": "stream",
     "text": [
      "Selected optimization level O1:  Insert automatic casts around Pytorch functions and Tensor methods.\n",
      "\n",
      "Defaults for this optimization level are:\n",
      "enabled                : True\n",
      "opt_level              : O1\n",
      "cast_model_type        : None\n",
      "patch_torch_functions  : True\n",
      "keep_batchnorm_fp32    : None\n",
      "master_weights         : None\n",
      "loss_scale             : dynamic\n",
      "Processing user overrides (additional kwargs that are not None)...\n",
      "After processing overrides, optimization options are:\n",
      "enabled                : True\n",
      "opt_level              : O1\n",
      "cast_model_type        : None\n",
      "patch_torch_functions  : True\n",
      "keep_batchnorm_fp32    : None\n",
      "master_weights         : None\n",
      "loss_scale             : dynamic\n",
      "Gradient overflow.  Skipping step, loss scaler 0 reducing loss scale to 32768.0\n",
      "Gradient overflow.  Skipping step, loss scaler 0 reducing loss scale to 16384.0\n",
      "[2019-11-29 19:46:42,710] \n",
      "0/10 * Epoch 0 (train): _base/lr=0.0010 | _base/momentum=0.9000 | _timers/_fps=4027.8741 | _timers/batch_time=0.0109 | _timers/data_time=0.0058 | _timers/model_time=0.0051 | accuracy01=91.3493 | accuracy03=97.6537 | accuracy05=98.9697 | loss=0.2835\n",
      "0/10 * Epoch 0 (valid): _base/lr=0.0010 | _base/momentum=0.9000 | _timers/_fps=3979.1857 | _timers/batch_time=0.0125 | _timers/data_time=0.0094 | _timers/model_time=0.0031 | accuracy01=98.3265 | accuracy03=99.8652 | accuracy05=99.9921 | loss=0.0541\n",
      "[2019-11-29 19:47:11,642] \n",
      "1/10 * Epoch 1 (train): _base/lr=0.0010 | _base/momentum=0.9000 | _timers/_fps=3978.6046 | _timers/batch_time=0.0099 | _timers/data_time=0.0058 | _timers/model_time=0.0041 | accuracy01=96.7084 | accuracy03=99.5885 | accuracy05=99.9184 | loss=0.1112\n",
      "1/10 * Epoch 1 (valid): _base/lr=0.0010 | _base/momentum=0.9000 | _timers/_fps=3835.3705 | _timers/batch_time=0.0130 | _timers/data_time=0.0098 | _timers/model_time=0.0031 | accuracy01=98.8261 | accuracy03=99.8969 | accuracy05=100.0000 | loss=0.0375\n",
      "[2019-11-29 19:47:40,589] \n",
      "2/10 * Epoch 2 (train): _base/lr=0.0010 | _base/momentum=0.9000 | _timers/_fps=4005.8212 | _timers/batch_time=0.0099 | _timers/data_time=0.0058 | _timers/model_time=0.0042 | accuracy01=97.1119 | accuracy03=99.7688 | accuracy05=99.9388 | loss=0.0900\n",
      "2/10 * Epoch 2 (valid): _base/lr=0.0010 | _base/momentum=0.9000 | _timers/_fps=4182.0744 | _timers/batch_time=0.0123 | _timers/data_time=0.0091 | _timers/model_time=0.0032 | accuracy01=99.0006 | accuracy03=99.9524 | accuracy05=99.9921 | loss=0.0336\n",
      "[2019-11-29 19:48:09,393] \n",
      "3/10 * Epoch 3 (train): _base/lr=0.0010 | _base/momentum=0.9000 | _timers/_fps=4027.3576 | _timers/batch_time=0.0099 | _timers/data_time=0.0058 | _timers/model_time=0.0041 | accuracy01=97.6197 | accuracy03=99.8028 | accuracy05=99.9694 | loss=0.0769\n",
      "3/10 * Epoch 3 (valid): _base/lr=0.0010 | _base/momentum=0.9000 | _timers/_fps=3843.0016 | _timers/batch_time=0.0127 | _timers/data_time=0.0096 | _timers/model_time=0.0031 | accuracy01=98.6649 | accuracy03=99.9128 | accuracy05=99.9841 | loss=0.0451\n",
      "[2019-11-29 19:48:38,570] \n",
      "4/10 * Epoch 4 (train): _base/lr=0.0010 | _base/momentum=0.9000 | _timers/_fps=3953.4944 | _timers/batch_time=0.0101 | _timers/data_time=0.0059 | _timers/model_time=0.0042 | accuracy01=97.9994 | accuracy03=99.8776 | accuracy05=99.9728 | loss=0.0659\n",
      "4/10 * Epoch 4 (valid): _base/lr=0.0010 | _base/momentum=0.9000 | _timers/_fps=3827.0504 | _timers/batch_time=0.0129 | _timers/data_time=0.0098 | _timers/model_time=0.0031 | accuracy01=99.0324 | accuracy03=99.9445 | accuracy05=99.9841 | loss=0.0325\n",
      "[2019-11-29 19:49:07,472] \n",
      "5/10 * Epoch 5 (train): _base/lr=0.0010 | _base/momentum=0.9000 | _timers/_fps=3972.8982 | _timers/batch_time=0.0101 | _timers/data_time=0.0059 | _timers/model_time=0.0041 | accuracy01=98.0447 | accuracy03=99.8674 | accuracy05=99.9864 | loss=0.0628\n",
      "5/10 * Epoch 5 (valid): _base/lr=0.0010 | _base/momentum=0.9000 | _timers/_fps=3648.3403 | _timers/batch_time=0.0130 | _timers/data_time=0.0100 | _timers/model_time=0.0030 | accuracy01=99.0932 | accuracy03=99.9524 | accuracy05=100.0000 | loss=0.0306\n",
      "Gradient overflow.  Skipping step, loss scaler 0 reducing loss scale to 65536.0\n",
      "[2019-11-29 19:49:36,435] \n",
      "6/10 * Epoch 6 (train): _base/lr=0.0010 | _base/momentum=0.9000 | _timers/_fps=3942.9667 | _timers/batch_time=0.0101 | _timers/data_time=0.0060 | _timers/model_time=0.0041 | accuracy01=98.3485 | accuracy03=99.9139 | accuracy05=99.9932 | loss=0.0513\n",
      "6/10 * Epoch 6 (valid): _base/lr=0.0010 | _base/momentum=0.9000 | _timers/_fps=3756.7737 | _timers/batch_time=0.0130 | _timers/data_time=0.0097 | _timers/model_time=0.0032 | accuracy01=99.1910 | accuracy03=99.9603 | accuracy05=100.0000 | loss=0.0250\n",
      "[2019-11-29 19:50:05,414] \n",
      "7/10 * Epoch 7 (train): _base/lr=0.0010 | _base/momentum=0.9000 | _timers/_fps=4004.2739 | _timers/batch_time=0.0100 | _timers/data_time=0.0058 | _timers/model_time=0.0042 | accuracy01=98.3916 | accuracy03=99.8980 | accuracy05=99.9864 | loss=0.0516\n",
      "7/10 * Epoch 7 (valid): _base/lr=0.0010 | _base/momentum=0.9000 | _timers/_fps=3864.6419 | _timers/batch_time=0.0127 | _timers/data_time=0.0096 | _timers/model_time=0.0030 | accuracy01=99.1751 | accuracy03=99.9921 | accuracy05=100.0000 | loss=0.0260\n",
      "[2019-11-29 19:50:35,446] \n",
      "8/10 * Epoch 8 (train): _base/lr=0.0010 | _base/momentum=0.9000 | _timers/_fps=3862.7369 | _timers/batch_time=0.0103 | _timers/data_time=0.0060 | _timers/model_time=0.0042 | accuracy01=98.7690 | accuracy03=99.9524 | accuracy05=99.9966 | loss=0.0407\n",
      "8/10 * Epoch 8 (valid): _base/lr=0.0010 | _base/momentum=0.9000 | _timers/_fps=3865.6576 | _timers/batch_time=0.0132 | _timers/data_time=0.0097 | _timers/model_time=0.0035 | accuracy01=99.1989 | accuracy03=99.9603 | accuracy05=100.0000 | loss=0.0269\n",
      "Gradient overflow.  Skipping step, loss scaler 0 reducing loss scale to 65536.0\n",
      "[2019-11-29 19:51:06,218] \n",
      "9/10 * Epoch 9 (train): _base/lr=0.0010 | _base/momentum=0.9000 | _timers/_fps=3696.4710 | _timers/batch_time=0.0108 | _timers/data_time=0.0063 | _timers/model_time=0.0044 | accuracy01=98.6228 | accuracy03=99.9320 | accuracy05=99.9864 | loss=0.0437\n",
      "9/10 * Epoch 9 (valid): _base/lr=0.0010 | _base/momentum=0.9000 | _timers/_fps=3923.0066 | _timers/batch_time=0.0129 | _timers/data_time=0.0096 | _timers/model_time=0.0032 | accuracy01=99.2703 | accuracy03=99.9841 | accuracy05=100.0000 | loss=0.0225\n",
      "Top best models:\n",
      "logs/mnist/checkpoints//train.9.pth\t0.0225\n",
      "CPU times: user 3min 8s, sys: 15 s, total: 3min 23s\n",
      "Wall time: 5min 3s\n"
     ]
    }
   ],
   "source": [
    "%%time\n",
    "# Experiment\n",
    "logdir = './logs/mnist'\n",
    "\n",
    "model = Net().to(device)\n",
    "criterion = nn.CrossEntropyLoss()\n",
    "optimizer = torch.optim.Adam(model.parameters())\n",
    "\n",
    "runner = SupervisedRunner()\n",
    "\n",
    "runner.train(\n",
    "    model=model,\n",
    "    criterion=criterion,\n",
    "    optimizer=optimizer,\n",
    "    loaders=loaders,\n",
    "    callbacks=[\n",
    "        AccuracyCallback(num_classes=num_class),\n",
    "    ],\n",
    "    logdir=logdir,\n",
    "    num_epochs=n_epochs,\n",
    "    fp16=FP16_PARAMS,\n",
    "    verbose=False\n",
    ")"
   ]
  },
  {
   "cell_type": "markdown",
   "metadata": {},
   "source": [
    "It's possible to check the saved models on the `logdir` directory defined early."
   ]
  },
  {
   "cell_type": "code",
   "execution_count": 21,
   "metadata": {
    "_kg_hide-input": true,
    "colab": {
     "base_uri": "https://localhost:8080/",
     "height": 52
    },
    "colab_type": "code",
    "id": "MsmCzDB9rs3J",
    "outputId": "22958127-4803-476b-94ad-4a49983da58d"
   },
   "outputs": [
    {
     "name": "stdout",
     "output_type": "stream",
     "text": [
      "_metrics.json  best_full.pth  last_full.pth  train.9_full.pth\r\n",
      "best.pth       last.pth       train.9.pth\r\n"
     ]
    }
   ],
   "source": [
    "!ls ./logs/mnist/checkpoints"
   ]
  },
  {
   "cell_type": "markdown",
   "metadata": {},
   "source": [
    "# 5. Predictions\n",
    "\n",
    "Ok, let's run our prediction. Remember the fake labels? I used here to don't get errors on predict."
   ]
  },
  {
   "cell_type": "code",
   "execution_count": 22,
   "metadata": {
    "_kg_hide-input": true,
    "colab": {
     "base_uri": "https://localhost:8080/",
     "height": 87
    },
    "colab_type": "code",
    "id": "u-rjPyEJrEBr",
    "outputId": "639ac2e9-74d4-448e-8586-b90cb5f2a52b"
   },
   "outputs": [
    {
     "name": "stdout",
     "output_type": "stream",
     "text": [
      "=> loading checkpoint ./logs/mnist/checkpoints/best.pth\n",
      "loaded checkpoint ./logs/mnist/checkpoints/best.pth (epoch 9)\n",
      "Top best models:\n",
      "\n"
     ]
    }
   ],
   "source": [
    "runner_out = runner.predict_loader(model=model, loader=test_loader, resume=f\"{logdir}/checkpoints/best.pth\")"
   ]
  },
  {
   "cell_type": "markdown",
   "metadata": {},
   "source": [
    "And save the results on submission file for the competition."
   ]
  },
  {
   "cell_type": "code",
   "execution_count": 23,
   "metadata": {
    "_kg_hide-input": true,
    "colab": {},
    "colab_type": "code",
    "id": "eMtbpoLDoX5y"
   },
   "outputs": [
    {
     "name": "stdout",
     "output_type": "stream",
     "text": [
      "Predictions made and Submission file saved!\n"
     ]
    }
   ],
   "source": [
    "_,results = torch.topk(torch.from_numpy(runner_out),1)\n",
    "submission.columns \n",
    "submission_final = pd.DataFrame({'ImageId':submission.ImageId,'Label':np.squeeze(results.numpy())},columns=['ImageId','Label'])\n",
    "submission_final.to_csv('submission_final.csv',index=False)\n",
    "print(\"Predictions made and Submission file saved!\")"
   ]
  },
  {
   "cell_type": "markdown",
   "metadata": {},
   "source": [
    "# 6. Conclusion\n",
    "\n",
    "Catalyst is awesome module to work with Deep Learning, it is based on the great PyTorch, but without use any complicated code lines and is friendly user. <br>\n",
    "Another advantage, due the PyTorch, is that easy to change and classification and segmentation tasks. Catalyst is really worth to give a try!\n",
    "About the Mixed Precision Training, it is so good, because the task gain more power to deal with big datasets, like images."
   ]
  }
 ],
 "metadata": {
  "accelerator": "GPU",
  "colab": {
   "collapsed_sections": [],
   "name": "MNIST_Catalyst",
   "provenance": []
  },
  "kernelspec": {
   "display_name": "Python 3",
   "name": "python3"
  },
  "language_info": {
   "codemirror_mode": {
    "name": "ipython",
    "version": 3
   },
   "file_extension": ".py",
   "mimetype": "text/x-python",
   "name": "python",
   "nbconvert_exporter": "python",
   "pygments_lexer": "ipython3",
   "version": "3.6.6"
  }
 },
 "nbformat": 4,
 "nbformat_minor": 1
}
