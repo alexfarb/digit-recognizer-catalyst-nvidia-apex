{
 "cells": [
  {
   "cell_type": "markdown",
   "metadata": {
    "id": "Jme-NJAJYvnW",
    "outputId": "1ed720e9-d7cd-4a68-a5c7-9f52281e6442"
   },
   "source": [
    "![](https://raw.githubusercontent.com/catalyst-team/catalyst-pics/master/pics/catalyst_logo.png)"
   ]
  },
  {
   "cell_type": "markdown",
   "metadata": {},
   "source": [
    "# 1. Introduction\n",
    "\n",
    "In this Kernel I will develop my take on the classic competition of Digit Recognizer using the nice Python module called [Catalyst](https://github.com/catalyst-team/catalyst). It's good because you can write modular and reproducible code to future experiments.<br>\n",
    "Let's start installing catalyst module.<br>\n",
    "Now import all required modules."
   ]
  },
  {
   "cell_type": "code",
   "execution_count": 1,
   "metadata": {
    "_kg_hide-input": true,
    "id": "FYQC9cqwY9Xy",
    "outputId": "7809cf7f-9fcf-465c-8b90-e4836faa629e"
   },
   "outputs": [
    {
     "name": "stdout",
     "output_type": "stream",
     "text": [
      "['train.csv', 'test.csv', 'sample_submission.csv']\n"
     ]
    }
   ],
   "source": [
    "# Standard Modules\n",
    "import numpy as np\n",
    "import pandas as pd\n",
    "# Graphic Plots\n",
    "import matplotlib.pyplot as plt\n",
    "%matplotlib inline\n",
    "plt.style.use('ggplot')\n",
    "import seaborn as sns\n",
    "sns.set_style('darkgrid')\n",
    "# Extra Tools\n",
    "import os\n",
    "import warnings\n",
    "import math\n",
    "import random\n",
    "from sklearn.model_selection import train_test_split\n",
    "warnings.filterwarnings('ignore')\n",
    "# PyTorch and Catalyst\n",
    "import collections\n",
    "import torch\n",
    "import torchvision\n",
    "import torchvision.transforms as transforms\n",
    "from torch.utils.data import DataLoader, Dataset, TensorDataset\n",
    "import torch.nn as nn\n",
    "import torch.nn.functional as F\n",
    "from catalyst.dl import utils\n",
    "from catalyst.dl.runner import SupervisedRunner\n",
    "from catalyst.dl.callbacks import AccuracyCallback\n",
    "from catalyst.utils import set_global_seed, prepare_cudnn\n",
    "# For better plot visualization\n",
    "%config InlineBackend.figure_format = 'retina'\n",
    "# Enviroment PATH\n",
    "PATH = '../input/digit-recognizer/'\n",
    "print(os.listdir(PATH))"
   ]
  },
  {
   "cell_type": "markdown",
   "metadata": {},
   "source": [
    "And set the enviroment settings for reprodutibility."
   ]
  },
  {
   "cell_type": "code",
   "execution_count": 2,
   "metadata": {},
   "outputs": [],
   "source": [
    "SEED = 42\n",
    "os.environ['CUDA_VISIBLE_DEVICES'] = \"0\"\n",
    "set_global_seed(SEED)                       \n",
    "prepare_cudnn(deterministic=True)           "
   ]
  },
  {
   "cell_type": "markdown",
   "metadata": {},
   "source": [
    "Let's use [NVIDIA Apex](https://github.com/NVIDIA/apex) to work with [Mixed Precision Training](https://docs.nvidia.com/deeplearning/sdk/mixed-precision-training/index.html), also called Automatic Mixed Precision (AMP).\n",
    "Set it to use FP16 and install Apex."
   ]
  },
  {
   "cell_type": "code",
   "execution_count": 3,
   "metadata": {
    "_kg_hide-input": true
   },
   "outputs": [],
   "source": [
    "FP16_PARAMS = None"
   ]
  },
  {
   "cell_type": "code",
   "execution_count": 4,
   "metadata": {
    "_kg_hide-input": true,
    "_kg_hide-output": true
   },
   "outputs": [
    {
     "name": "stdout",
     "output_type": "stream",
     "text": [
      "Writing setup.sh\n"
     ]
    }
   ],
   "source": [
    "%%writefile setup.sh\n",
    "git clone https://github.com/NVIDIA/apex\n",
    "cd apex\n",
    "pip install -v --no-cache-dir --global-option=\"--cpp_ext\" --global-option=\"--cuda_ext\" ./\n",
    "rm -rf ./apex"
   ]
  },
  {
   "cell_type": "code",
   "execution_count": 5,
   "metadata": {},
   "outputs": [],
   "source": [
    "%%capture\n",
    "!sh setup.sh\n",
    "FP16_PARAMS = dict(opt_level=\"O1\") "
   ]
  },
  {
   "cell_type": "markdown",
   "metadata": {},
   "source": [
    "# 2. Load Datasets and Explore the Images\n",
    "\n",
    "Load the datasets in Pandas Dataframes and take a look on the Train Set to check the dataset format."
   ]
  },
  {
   "cell_type": "code",
   "execution_count": 6,
   "metadata": {
    "_kg_hide-input": true,
    "id": "QBegVYWtwTRn"
   },
   "outputs": [
    {
     "data": {
      "text/html": [
       "<div>\n",
       "<style scoped>\n",
       "    .dataframe tbody tr th:only-of-type {\n",
       "        vertical-align: middle;\n",
       "    }\n",
       "\n",
       "    .dataframe tbody tr th {\n",
       "        vertical-align: top;\n",
       "    }\n",
       "\n",
       "    .dataframe thead th {\n",
       "        text-align: right;\n",
       "    }\n",
       "</style>\n",
       "<table border=\"1\" class=\"dataframe\">\n",
       "  <thead>\n",
       "    <tr style=\"text-align: right;\">\n",
       "      <th></th>\n",
       "      <th>label</th>\n",
       "      <th>pixel0</th>\n",
       "      <th>pixel1</th>\n",
       "      <th>pixel2</th>\n",
       "      <th>pixel3</th>\n",
       "      <th>pixel4</th>\n",
       "      <th>pixel5</th>\n",
       "      <th>pixel6</th>\n",
       "      <th>pixel7</th>\n",
       "      <th>pixel8</th>\n",
       "      <th>...</th>\n",
       "      <th>pixel774</th>\n",
       "      <th>pixel775</th>\n",
       "      <th>pixel776</th>\n",
       "      <th>pixel777</th>\n",
       "      <th>pixel778</th>\n",
       "      <th>pixel779</th>\n",
       "      <th>pixel780</th>\n",
       "      <th>pixel781</th>\n",
       "      <th>pixel782</th>\n",
       "      <th>pixel783</th>\n",
       "    </tr>\n",
       "  </thead>\n",
       "  <tbody>\n",
       "    <tr>\n",
       "      <th>0</th>\n",
       "      <td>1</td>\n",
       "      <td>0</td>\n",
       "      <td>0</td>\n",
       "      <td>0</td>\n",
       "      <td>0</td>\n",
       "      <td>0</td>\n",
       "      <td>0</td>\n",
       "      <td>0</td>\n",
       "      <td>0</td>\n",
       "      <td>0</td>\n",
       "      <td>...</td>\n",
       "      <td>0</td>\n",
       "      <td>0</td>\n",
       "      <td>0</td>\n",
       "      <td>0</td>\n",
       "      <td>0</td>\n",
       "      <td>0</td>\n",
       "      <td>0</td>\n",
       "      <td>0</td>\n",
       "      <td>0</td>\n",
       "      <td>0</td>\n",
       "    </tr>\n",
       "    <tr>\n",
       "      <th>1</th>\n",
       "      <td>0</td>\n",
       "      <td>0</td>\n",
       "      <td>0</td>\n",
       "      <td>0</td>\n",
       "      <td>0</td>\n",
       "      <td>0</td>\n",
       "      <td>0</td>\n",
       "      <td>0</td>\n",
       "      <td>0</td>\n",
       "      <td>0</td>\n",
       "      <td>...</td>\n",
       "      <td>0</td>\n",
       "      <td>0</td>\n",
       "      <td>0</td>\n",
       "      <td>0</td>\n",
       "      <td>0</td>\n",
       "      <td>0</td>\n",
       "      <td>0</td>\n",
       "      <td>0</td>\n",
       "      <td>0</td>\n",
       "      <td>0</td>\n",
       "    </tr>\n",
       "    <tr>\n",
       "      <th>2</th>\n",
       "      <td>1</td>\n",
       "      <td>0</td>\n",
       "      <td>0</td>\n",
       "      <td>0</td>\n",
       "      <td>0</td>\n",
       "      <td>0</td>\n",
       "      <td>0</td>\n",
       "      <td>0</td>\n",
       "      <td>0</td>\n",
       "      <td>0</td>\n",
       "      <td>...</td>\n",
       "      <td>0</td>\n",
       "      <td>0</td>\n",
       "      <td>0</td>\n",
       "      <td>0</td>\n",
       "      <td>0</td>\n",
       "      <td>0</td>\n",
       "      <td>0</td>\n",
       "      <td>0</td>\n",
       "      <td>0</td>\n",
       "      <td>0</td>\n",
       "    </tr>\n",
       "    <tr>\n",
       "      <th>3</th>\n",
       "      <td>4</td>\n",
       "      <td>0</td>\n",
       "      <td>0</td>\n",
       "      <td>0</td>\n",
       "      <td>0</td>\n",
       "      <td>0</td>\n",
       "      <td>0</td>\n",
       "      <td>0</td>\n",
       "      <td>0</td>\n",
       "      <td>0</td>\n",
       "      <td>...</td>\n",
       "      <td>0</td>\n",
       "      <td>0</td>\n",
       "      <td>0</td>\n",
       "      <td>0</td>\n",
       "      <td>0</td>\n",
       "      <td>0</td>\n",
       "      <td>0</td>\n",
       "      <td>0</td>\n",
       "      <td>0</td>\n",
       "      <td>0</td>\n",
       "    </tr>\n",
       "    <tr>\n",
       "      <th>4</th>\n",
       "      <td>0</td>\n",
       "      <td>0</td>\n",
       "      <td>0</td>\n",
       "      <td>0</td>\n",
       "      <td>0</td>\n",
       "      <td>0</td>\n",
       "      <td>0</td>\n",
       "      <td>0</td>\n",
       "      <td>0</td>\n",
       "      <td>0</td>\n",
       "      <td>...</td>\n",
       "      <td>0</td>\n",
       "      <td>0</td>\n",
       "      <td>0</td>\n",
       "      <td>0</td>\n",
       "      <td>0</td>\n",
       "      <td>0</td>\n",
       "      <td>0</td>\n",
       "      <td>0</td>\n",
       "      <td>0</td>\n",
       "      <td>0</td>\n",
       "    </tr>\n",
       "  </tbody>\n",
       "</table>\n",
       "<p>5 rows × 785 columns</p>\n",
       "</div>"
      ],
      "text/plain": [
       "   label  pixel0  pixel1  pixel2  pixel3  pixel4  pixel5  pixel6  pixel7  \\\n",
       "0      1       0       0       0       0       0       0       0       0   \n",
       "1      0       0       0       0       0       0       0       0       0   \n",
       "2      1       0       0       0       0       0       0       0       0   \n",
       "3      4       0       0       0       0       0       0       0       0   \n",
       "4      0       0       0       0       0       0       0       0       0   \n",
       "\n",
       "   pixel8  ...  pixel774  pixel775  pixel776  pixel777  pixel778  pixel779  \\\n",
       "0       0  ...         0         0         0         0         0         0   \n",
       "1       0  ...         0         0         0         0         0         0   \n",
       "2       0  ...         0         0         0         0         0         0   \n",
       "3       0  ...         0         0         0         0         0         0   \n",
       "4       0  ...         0         0         0         0         0         0   \n",
       "\n",
       "   pixel780  pixel781  pixel782  pixel783  \n",
       "0         0         0         0         0  \n",
       "1         0         0         0         0  \n",
       "2         0         0         0         0  \n",
       "3         0         0         0         0  \n",
       "4         0         0         0         0  \n",
       "\n",
       "[5 rows x 785 columns]"
      ]
     },
     "execution_count": 6,
     "metadata": {},
     "output_type": "execute_result"
    }
   ],
   "source": [
    "train_raw = pd.read_csv(PATH+'train.csv')\n",
    "test_raw = pd.read_csv(PATH+'test.csv')\n",
    "submission = pd.read_csv(PATH+'sample_submission.csv')\n",
    "train_raw.head()"
   ]
  },
  {
   "cell_type": "markdown",
   "metadata": {},
   "source": [
    "Although this is an image competition, is provided tabular data, where each feature column represents an image pixel. <br>\n",
    "Let's see how many samples (images) it have."
   ]
  },
  {
   "cell_type": "code",
   "execution_count": 7,
   "metadata": {
    "_kg_hide-input": true,
    "id": "iRtK3DzM2eBz",
    "outputId": "caed51e5-676c-4143-d4a1-67990bb3017f"
   },
   "outputs": [
    {
     "name": "stdout",
     "output_type": "stream",
     "text": [
      "Train Samples: 42000\n",
      "Test Samples: 28000\n"
     ]
    }
   ],
   "source": [
    "print(f'Train Samples: {train_raw.shape[0]}')\n",
    "print(f'Test Samples: {test_raw.shape[0]}')"
   ]
  },
  {
   "cell_type": "markdown",
   "metadata": {},
   "source": [
    "Check the label distribution to find any disbalance."
   ]
  },
  {
   "cell_type": "code",
   "execution_count": 8,
   "metadata": {
    "_kg_hide-input": true,
    "id": "FlN2yv66273H",
    "outputId": "758822f1-3325-4dce-af3e-0e23b6ff2d39"
   },
   "outputs": [
    {
     "data": {
      "image/png": "[encoded data removed]",
      "text/plain": [
       "<Figure size 720x432 with 1 Axes>"
      ]
     },
     "metadata": {
      "image/png": {
       "height": 390,
       "width": 621
      }
     },
     "output_type": "display_data"
    }
   ],
   "source": [
    "plt.figure(figsize=(10,6))\n",
    "sns.countplot(x='label', data=train_raw)\n",
    "plt.title('Digit Label Distribution');"
   ]
  },
  {
   "cell_type": "markdown",
   "metadata": {},
   "source": [
    "Time to see how the samples look like images. For this, they will reshaped for images with 28x28 pixels, because the product of this results in 784, the number of columns/pixels in the dataset (except label column). "
   ]
  },
  {
   "cell_type": "code",
   "execution_count": 9,
   "metadata": {
    "_kg_hide-input": true,
    "id": "r3FT-bHc1GWB",
    "outputId": "1cd9b37f-8e82-4c45-daad-15c643125f70"
   },
   "outputs": [
    {
     "data": {
      "image/png": "[encoded data removed]",
      "text/plain": [
       "<Figure size 720x432 with 10 Axes>"
      ]
     },
     "metadata": {
      "image/png": {
       "height": 357,
       "width": 572
      }
     },
     "output_type": "display_data"
    }
   ],
   "source": [
    "label_index = []\n",
    "for i in range(10):\n",
    "  label_index.append(train_raw.index[train_raw['label'] == i][0])\n",
    "\n",
    "fig = plt.figure(figsize=(10,6))\n",
    "\n",
    "idx = 1\n",
    "\n",
    "for i in label_index:\n",
    "  plt.subplot(2, 5, idx)\n",
    "  plt.imshow(train_raw.iloc[i,1:].values.reshape(28, 28))\n",
    "  plt.axis('off')\n",
    "  plt.suptitle('MNIST Digits')\n",
    "  plt.title(str(train_raw['label'].loc[i]))\n",
    "  idx = idx+1\n",
    "\n",
    "plt.show()"
   ]
  },
  {
   "cell_type": "markdown",
   "metadata": {},
   "source": [
    "# 3. Data Preparation for Catalyst\n",
    "\n",
    "We start splitting the train dataframe in train and validations sets."
   ]
  },
  {
   "cell_type": "code",
   "execution_count": 10,
   "metadata": {
    "_kg_hide-input": true,
    "id": "zToQ4BwoyEMX"
   },
   "outputs": [],
   "source": [
    "x_train, x_val, y_train, y_val = train_test_split(train_raw.iloc[:, 1:], \n",
    "                                                  train_raw['label'], \n",
    "                                                  test_size=0.3, \n",
    "                                                  random_state=42)\n",
    "\n",
    "x_train.reset_index(drop=True, inplace=True)\n",
    "y_train.reset_index(drop=True, inplace=True)\n",
    "x_val.reset_index(drop=True, inplace=True)\n",
    "y_val.reset_index(drop=True, inplace=True)"
   ]
  },
  {
   "cell_type": "markdown",
   "metadata": {},
   "source": [
    "As we have a Pandas Dataframe with pixel values, it's needed to transform in tensors, they will be input of the Network. <br>\n",
    "The pixels are normalized with the transform.\n",
    "Let's just write how the transform will work."
   ]
  },
  {
   "cell_type": "code",
   "execution_count": 11,
   "metadata": {
    "_kg_hide-input": true,
    "id": "N8szhSG8K876"
   },
   "outputs": [],
   "source": [
    "data_transform = transforms.Compose([transforms.ToTensor(),transforms.Normalize((0.5,), (0.5,))])"
   ]
  },
  {
   "cell_type": "markdown",
   "metadata": {},
   "source": [
    "For the Catalyst, we have to write a class called dataset to prepare the data for the network. <br>\n",
    "On the Dataset class is defined the input, label and any process, like tranformations, in the data."
   ]
  },
  {
   "cell_type": "code",
   "execution_count": 12,
   "metadata": {
    "_kg_hide-input": true,
    "id": "Vr1Yz5XAC132"
   },
   "outputs": [],
   "source": [
    "class MnistDataset(Dataset):\n",
    "# Get input, labels and transforms\n",
    "  def __init__(self, images, labels=None, transform=None):\n",
    "    self.x = images\n",
    "    self.y = labels\n",
    "    self.transform = transform\n",
    "# Get data length\n",
    "  def __len__(self):\n",
    "    return len(self.x)\n",
    "# Get data index\n",
    "  def __getitem__(self, i):\n",
    "    data = np.array(self.x.iloc[i, :], dtype='uint8').reshape([28, 28, 1])\n",
    "\n",
    "    if self.transform is not None:\n",
    "      data = self.transform(data)\n",
    "    if self.y is not None:\n",
    "      target = self.y.iloc[i]\n",
    "      return data, target\n",
    "    else:\n",
    "      return data"
   ]
  },
  {
   "cell_type": "markdown",
   "metadata": {},
   "source": [
    "Here, we define the parameters of the experiment, like Batch Size, Iterations, etc."
   ]
  },
  {
   "cell_type": "code",
   "execution_count": 13,
   "metadata": {
    "_kg_hide-input": false,
    "id": "yRi8KADSnXjN"
   },
   "outputs": [],
   "source": [
    "num_class = 10\n",
    "batch_size = 32\n",
    "num_workers = 4\n",
    "n_iters = 5000\n",
    "n_epochs = int(n_iters/(len(x_train)/batch_size))"
   ]
  },
  {
   "cell_type": "markdown",
   "metadata": {},
   "source": [
    "It's a personal choice, I create fake labels for the test set for avoid any error on Catalyst."
   ]
  },
  {
   "cell_type": "code",
   "execution_count": 14,
   "metadata": {
    "_kg_hide-input": false,
    "id": "75Hbwo-eVTC5"
   },
   "outputs": [],
   "source": [
    "fake_labels = np.zeros(test_raw.shape[0])\n",
    "fake_labels = pd.Series(fake_labels)\n",
    "fake_labels = fake_labels.astype(int)"
   ]
  },
  {
   "cell_type": "markdown",
   "metadata": {},
   "source": [
    "Time to convert the data on Catalyst Dataset."
   ]
  },
  {
   "cell_type": "code",
   "execution_count": 15,
   "metadata": {
    "_kg_hide-input": false,
    "id": "YHOkWYXNMEn4"
   },
   "outputs": [],
   "source": [
    "train = MnistDataset(x_train, y_train, transform=data_transform)\n",
    "val = MnistDataset(x_val, y_val, transform=data_transform)\n",
    "test = MnistDataset(test_raw, fake_labels, transform=data_transform)"
   ]
  },
  {
   "cell_type": "markdown",
   "metadata": {},
   "source": [
    "And get these datasets and put they on Loaders. <br>\n",
    "Loaders in Catalyst provide parameters like batch size together the data."
   ]
  },
  {
   "cell_type": "code",
   "execution_count": 16,
   "metadata": {
    "_kg_hide-input": true,
    "id": "qERBENjSy_aO"
   },
   "outputs": [],
   "source": [
    "train_loader = DataLoader(train, batch_size=batch_size, shuffle=False, num_workers=num_workers)\n",
    "val_loader = DataLoader(val, batch_size=batch_size, shuffle=False, num_workers=num_workers)\n",
    "test_loader = DataLoader(test, batch_size=batch_size, shuffle=False, num_workers=num_workers)"
   ]
  },
  {
   "cell_type": "markdown",
   "metadata": {},
   "source": [
    "Put the train and validation loaders in dictionares to feed the network."
   ]
  },
  {
   "cell_type": "code",
   "execution_count": 17,
   "metadata": {
    "_kg_hide-input": true,
    "id": "MBCs3SqJNVwe"
   },
   "outputs": [],
   "source": [
    "loaders = collections.OrderedDict()\n",
    "loaders[\"train\"] = train_loader\n",
    "loaders[\"valid\"] = val_loader"
   ]
  },
  {
   "cell_type": "markdown",
   "metadata": {},
   "source": [
    "We have the advantage of use GPU, let's check for any available and save it for use on Catalyst."
   ]
  },
  {
   "cell_type": "code",
   "execution_count": 18,
   "metadata": {
    "_kg_hide-input": true,
    "id": "SAlSzLgI8CR2",
    "outputId": "04b70d0b-e60a-4f82-b80e-2f3665a1c507"
   },
   "outputs": [
    {
     "name": "stdout",
     "output_type": "stream",
     "text": [
      "cuda\n"
     ]
    }
   ],
   "source": [
    "device = torch.device('cuda' if torch.cuda.is_available() else 'cpu')\n",
    "print(device)"
   ]
  },
  {
   "cell_type": "markdown",
   "metadata": {},
   "source": [
    "# 4. Model\n",
    "\n",
    "Time to build the model! This is a nice part on Catalyst, it's modular, is easy to change any part like the network. <br>\n",
    "If you see on this competition, you will find a lot of interesting model networks, I think that the model that is provided [here](https://www.kaggle.com/juiyangchang/cnn-with-pytorch-0-995-accuracy) is good enough."
   ]
  },
  {
   "cell_type": "code",
   "execution_count": 19,
   "metadata": {
    "id": "JE3YsTaV9htk"
   },
   "outputs": [],
   "source": [
    "class Net(nn.Module):    \n",
    "    def __init__(self):\n",
    "        super(Net, self).__init__()\n",
    "          \n",
    "        self.features = nn.Sequential(\n",
    "            nn.Conv2d(1, 32, kernel_size=3, stride=1, padding=1),\n",
    "            nn.BatchNorm2d(32),\n",
    "            nn.ReLU(inplace=True),\n",
    "            nn.Conv2d(32, 32, kernel_size=3, stride=1, padding=1),\n",
    "            nn.BatchNorm2d(32),\n",
    "            nn.ReLU(inplace=True),\n",
    "            nn.MaxPool2d(kernel_size=2, stride=2),\n",
    "            nn.Conv2d(32, 64, kernel_size=3, padding=1),\n",
    "            nn.BatchNorm2d(64),\n",
    "            nn.ReLU(inplace=True),\n",
    "            nn.Conv2d(64, 64, kernel_size=3, padding=1),\n",
    "            nn.BatchNorm2d(64),\n",
    "            nn.ReLU(inplace=True),\n",
    "            nn.MaxPool2d(kernel_size=2, stride=2)\n",
    "        )\n",
    "          \n",
    "        self.classifier = nn.Sequential(\n",
    "            nn.Dropout(p = 0.5),\n",
    "            nn.Linear(64 * 7 * 7, 512),\n",
    "            nn.BatchNorm1d(512),\n",
    "            nn.ReLU(inplace=True),\n",
    "            nn.Dropout(p = 0.5),\n",
    "            nn.Linear(512, 512),\n",
    "            nn.BatchNorm1d(512),\n",
    "            nn.ReLU(inplace=True),\n",
    "            nn.Dropout(p = 0.5),\n",
    "            nn.Linear(512, 10),\n",
    "        )\n",
    "          \n",
    "        for m in self.features.children():\n",
    "            if isinstance(m, nn.Conv2d):\n",
    "                n = m.kernel_size[0] * m.kernel_size[1] * m.out_channels\n",
    "                m.weight.data.normal_(0, math.sqrt(2. / n))\n",
    "            elif isinstance(m, nn.BatchNorm2d):\n",
    "                m.weight.data.fill_(1)\n",
    "                m.bias.data.zero_()\n",
    "        \n",
    "        for m in self.classifier.children():\n",
    "            if isinstance(m, nn.Linear):\n",
    "                nn.init.xavier_uniform(m.weight)\n",
    "            elif isinstance(m, nn.BatchNorm1d):\n",
    "                m.weight.data.fill_(1)\n",
    "                m.bias.data.zero_()\n",
    "                \n",
    "\n",
    "    def forward(self, x):\n",
    "        x = self.features(x)\n",
    "        x = x.view(x.size(0), -1)\n",
    "        x = self.classifier(x)\n",
    "        \n",
    "        return x    "
   ]
  },
  {
   "cell_type": "markdown",
   "metadata": {},
   "source": [
    "Now, we assemble each component created before and run the expirement on Catalyst. <br>\n",
    "Let's start training the network."
   ]
  },
  {
   "cell_type": "code",
   "execution_count": 20,
   "metadata": {
    "_kg_hide-input": false,
    "_kg_hide-output": true,
    "id": "ANJTmLtc_Yvg",
    "outputId": "9d67fe03-37be-4d1c-d2b5-148a5b6bcb43"
   },
   "outputs": [
    {
     "name": "stderr",
     "output_type": "stream",
     "text": [
      "/opt/conda/lib/python3.6/site-packages/ipykernel_launcher.py:45: UserWarning:\n",
      "\n",
      "nn.init.xavier_uniform is now deprecated in favor of nn.init.xavier_uniform_.\n",
      "\n",
      "/opt/conda/lib/python3.6/site-packages/ipykernel_launcher.py:45: UserWarning:\n",
      "\n",
      "nn.init.xavier_uniform is now deprecated in favor of nn.init.xavier_uniform_.\n",
      "\n",
      "/opt/conda/lib/python3.6/site-packages/ipykernel_launcher.py:45: UserWarning:\n",
      "\n",
      "nn.init.xavier_uniform is now deprecated in favor of nn.init.xavier_uniform_.\n",
      "\n"
     ]
    },
    {
     "name": "stdout",
     "output_type": "stream",
     "text": [
      "Selected optimization level O1:  Insert automatic casts around Pytorch functions and Tensor methods.\n",
      "\n",
      "Defaults for this optimization level are:\n",
      "enabled                : True\n",
      "opt_level              : O1\n",
      "cast_model_type        : None\n",
      "patch_torch_functions  : True\n",
      "keep_batchnorm_fp32    : None\n",
      "master_weights         : None\n",
      "loss_scale             : dynamic\n",
      "Processing user overrides (additional kwargs that are not None)...\n",
      "After processing overrides, optimization options are:\n",
      "enabled                : True\n",
      "opt_level              : O1\n",
      "cast_model_type        : None\n",
      "patch_torch_functions  : True\n",
      "keep_batchnorm_fp32    : None\n",
      "master_weights         : None\n",
      "loss_scale             : dynamic\n",
      "Gradient overflow.  Skipping step, loss scaler 0 reducing loss scale to 32768.0\n",
      "Gradient overflow.  Skipping step, loss scaler 0 reducing loss scale to 16384.0\n",
      "[2020-04-18 14:15:45,662] \n",
      "1/5 * Epoch 1 (_base): lr=0.0010 | momentum=0.9000\n",
      "1/5 * Epoch 1 (train): _timer/_fps=1373.2228 | _timer/batch_time=0.0257 | _timer/data_time=0.0183 | _timer/model_time=0.0074 | accuracy01=0.9084 | accuracy03=0.9759 | accuracy05=0.9900 | loss=0.2912\n",
      "1/5 * Epoch 1 (valid): _timer/_fps=2256.1089 | _timer/batch_time=0.0177 | _timer/data_time=0.0121 | _timer/model_time=0.0055 | accuracy01=0.9827 | accuracy03=0.9990 | accuracy05=0.9999 | loss=0.0518\n",
      "[2020-04-18 14:16:16,595] \n",
      "2/5 * Epoch 2 (_base): lr=0.0010 | momentum=0.9000\n",
      "2/5 * Epoch 2 (train): _timer/_fps=1390.3130 | _timer/batch_time=0.0244 | _timer/data_time=0.0180 | _timer/model_time=0.0064 | accuracy01=0.9655 | accuracy03=0.9964 | accuracy05=0.9993 | loss=0.1130\n",
      "2/5 * Epoch 2 (valid): _timer/_fps=2013.1495 | _timer/batch_time=0.0210 | _timer/data_time=0.0138 | _timer/model_time=0.0071 | accuracy01=0.9869 | accuracy03=0.9992 | accuracy05=0.9998 | loss=0.0439\n",
      "[2020-04-18 14:16:47,020] \n",
      "3/5 * Epoch 3 (_base): lr=0.0010 | momentum=0.9000\n",
      "3/5 * Epoch 3 (train): _timer/_fps=1362.4998 | _timer/batch_time=0.0248 | _timer/data_time=0.0183 | _timer/model_time=0.0065 | accuracy01=0.9719 | accuracy03=0.9974 | accuracy05=0.9997 | loss=0.0935\n",
      "3/5 * Epoch 3 (valid): _timer/_fps=2224.7190 | _timer/batch_time=0.0186 | _timer/data_time=0.0127 | _timer/model_time=0.0059 | accuracy01=0.9893 | accuracy03=0.9994 | accuracy05=0.9998 | loss=0.0327\n",
      "[2020-04-18 14:17:18,163] \n",
      "4/5 * Epoch 4 (_base): lr=0.0010 | momentum=0.9000\n",
      "4/5 * Epoch 4 (train): _timer/_fps=1367.3403 | _timer/batch_time=0.0249 | _timer/data_time=0.0184 | _timer/model_time=0.0065 | accuracy01=0.9770 | accuracy03=0.9983 | accuracy05=0.9998 | loss=0.0746\n",
      "4/5 * Epoch 4 (valid): _timer/_fps=2057.7356 | _timer/batch_time=0.0201 | _timer/data_time=0.0133 | _timer/model_time=0.0068 | accuracy01=0.9905 | accuracy03=0.9997 | accuracy05=1.0000 | loss=0.0304\n",
      "[2020-04-18 14:17:48,184] \n",
      "5/5 * Epoch 5 (_base): lr=0.0010 | momentum=0.9000\n",
      "5/5 * Epoch 5 (train): _timer/_fps=1381.2889 | _timer/batch_time=0.0245 | _timer/data_time=0.0181 | _timer/model_time=0.0064 | accuracy01=0.9796 | accuracy03=0.9986 | accuracy05=0.9998 | loss=0.0677\n",
      "5/5 * Epoch 5 (valid): _timer/_fps=2241.2340 | _timer/batch_time=0.0182 | _timer/data_time=0.0123 | _timer/model_time=0.0059 | accuracy01=0.9901 | accuracy03=0.9995 | accuracy05=1.0000 | loss=0.0306\n",
      "Top best models:\n",
      "logs/mnist/checkpoints/train.4.pth\t0.0304\n",
      "CPU times: user 1min 40s, sys: 6.7 s, total: 1min 47s\n",
      "Wall time: 2min 40s\n"
     ]
    }
   ],
   "source": [
    "%%time\n",
    "# Experiment\n",
    "logdir = './logs/mnist'\n",
    "\n",
    "model = Net().to(device)\n",
    "criterion = nn.CrossEntropyLoss()\n",
    "optimizer = torch.optim.Adam(model.parameters())\n",
    "\n",
    "runner = SupervisedRunner()\n",
    "\n",
    "runner.train(\n",
    "    model=model,\n",
    "    criterion=criterion,\n",
    "    optimizer=optimizer,\n",
    "    loaders=loaders,\n",
    "    callbacks=[\n",
    "        AccuracyCallback(num_classes=num_class),\n",
    "    ],\n",
    "    logdir=logdir,\n",
    "    num_epochs=n_epochs,\n",
    "    fp16=FP16_PARAMS,\n",
    "    verbose=False\n",
    ")"
   ]
  },
  {
   "cell_type": "markdown",
   "metadata": {},
   "source": [
    "It's possible to check the saved models on the `logdir` directory defined early."
   ]
  },
  {
   "cell_type": "code",
   "execution_count": 21,
   "metadata": {
    "_kg_hide-input": true,
    "id": "MsmCzDB9rs3J",
    "outputId": "22958127-4803-476b-94ad-4a49983da58d"
   },
   "outputs": [
    {
     "name": "stdout",
     "output_type": "stream",
     "text": [
      "_metrics.json  best_full.pth  last_full.pth  train.4_full.pth\r\n",
      "best.pth       last.pth       train.4.pth\r\n"
     ]
    }
   ],
   "source": [
    "!ls ./logs/mnist/checkpoints"
   ]
  },
  {
   "cell_type": "markdown",
   "metadata": {},
   "source": [
    "# 5. Predictions\n",
    "\n",
    "Ok, let's run our prediction. Remember the fake labels? I used here to don't get errors on predict."
   ]
  },
  {
   "cell_type": "code",
   "execution_count": 22,
   "metadata": {
    "_kg_hide-input": false,
    "id": "u-rjPyEJrEBr",
    "outputId": "639ac2e9-74d4-448e-8586-b90cb5f2a52b"
   },
   "outputs": [
    {
     "name": "stdout",
     "output_type": "stream",
     "text": [
      "Selected optimization level O0:  Pure FP32 training.\n",
      "\n",
      "Defaults for this optimization level are:\n",
      "enabled                : True\n",
      "opt_level              : O0\n",
      "cast_model_type        : torch.float32\n",
      "patch_torch_functions  : False\n",
      "keep_batchnorm_fp32    : None\n",
      "master_weights         : False\n",
      "loss_scale             : 1.0\n",
      "Processing user overrides (additional kwargs that are not None)...\n",
      "After processing overrides, optimization options are:\n",
      "enabled                : True\n",
      "opt_level              : O0\n",
      "cast_model_type        : torch.float32\n",
      "patch_torch_functions  : False\n",
      "keep_batchnorm_fp32    : None\n",
      "master_weights         : False\n",
      "loss_scale             : 1.0\n",
      "=> loading checkpoint ./logs/mnist/checkpoints/best.pth\n",
      "loaded checkpoint ./logs/mnist/checkpoints/best.pth (global epoch 4, epoch 4, stage train)\n"
     ]
    }
   ],
   "source": [
    "runner_out = runner.predict_loader(model=model, loader=test_loader, resume=f\"{logdir}/checkpoints/best.pth\")"
   ]
  },
  {
   "cell_type": "markdown",
   "metadata": {},
   "source": [
    "And save the results on submission file for the competition."
   ]
  },
  {
   "cell_type": "code",
   "execution_count": 23,
   "metadata": {
    "_kg_hide-input": true,
    "id": "eMtbpoLDoX5y"
   },
   "outputs": [
    {
     "name": "stdout",
     "output_type": "stream",
     "text": [
      "Predictions made and Submission file saved!\n"
     ]
    }
   ],
   "source": [
    "_,results = torch.topk(torch.from_numpy(runner_out),1)\n",
    "submission.columns \n",
    "submission_final = pd.DataFrame({'ImageId':submission.ImageId,'Label':np.squeeze(results.numpy())},columns=['ImageId','Label'])\n",
    "submission_final.to_csv('submission_final.csv',index=False)\n",
    "print(\"Predictions made and Submission file saved!\")"
   ]
  },
  {
   "cell_type": "markdown",
   "metadata": {},
   "source": [
    "# 6. Conclusion\n",
    "\n",
    "Catalyst is awesome module to work with Deep Learning, it is based on the great PyTorch, but without use any complicated code lines and is friendly user. <br>\n",
    "Another advantage, due the PyTorch, is that easy to change and classification and segmentation tasks. Catalyst is really worth to give a try!\n",
    "About the Mixed Precision Training, it is so good, because the task gain more power to deal with big datasets, like images."
   ]
  }
 ],
 "metadata": {
  "accelerator": "GPU",
  "colab": {
   "collapsed_sections": [],
   "name": "MNIST_Catalyst",
   "provenance": []
  },
  "kernelspec": {
   "display_name": "Python 3",
   "name": "python3"
  },
  "language_info": {
   "codemirror_mode": {
    "name": "ipython",
    "version": 3
   },
   "file_extension": ".py",
   "mimetype": "text/x-python",
   "name": "python",
   "nbconvert_exporter": "python",
   "pygments_lexer": "ipython3",
   "version": "3.6.6"
  }
 },
 "nbformat": 4,
 "nbformat_minor": 4
}
